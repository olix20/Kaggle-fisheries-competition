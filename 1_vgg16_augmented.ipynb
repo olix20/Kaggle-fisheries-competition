{
 "cells": [
  {
   "cell_type": "markdown",
   "metadata": {},
   "source": [
    "# Nature Conservancy Monitoring"
   ]
  },
  {
   "cell_type": "markdown",
   "metadata": {},
   "source": [
    "## Set up training, validation and testing schemes\n",
    "Images are in Train and Test folders. The idea is to read all the training images in memory and dump into a numpy array on disk.\n",
    "So that we waste very little time when experimenting from scratch."
   ]
  },
  {
   "cell_type": "code",
   "execution_count": 9,
   "metadata": {
    "collapsed": false
   },
   "outputs": [],
   "source": [
    "import matplotlib.pyplot as plt\n",
    "import numpy as np\n",
    "import pickle\n",
    "import h5py\n",
    "import cv2\n",
    "import os\n",
    "import glob\n",
    "from keras.models import Sequential\n",
    "from keras.layers.core import Flatten, Dense, Dropout, Reshape, Lambda\n",
    "from keras.layers.convolutional import Convolution2D, MaxPooling2D, ZeroPadding2D\n",
    "from keras.optimizers import Adadelta, Adam\n",
    "from keras.utils.np_utils import to_categorical\n",
    "from sklearn.preprocessing import LabelEncoder\n",
    "from sklearn.cross_validation import train_test_split\n",
    "from keras.layers.normalization import BatchNormalization\n",
    "from keras.callbacks import EarlyStopping, History\n",
    "from keras.preprocessing.image import ImageDataGenerator\n",
    "from keras.utils.data_utils import get_file\n",
    "\n",
    "import pandas as pd\n",
    "from __future__ import division, print_function\n",
    "from collections import Counter\n",
    "%matplotlib inline"
   ]
  },
  {
   "cell_type": "markdown",
   "metadata": {},
   "source": [
    "## Create Validation directory"
   ]
  },
  {
   "cell_type": "code",
   "execution_count": 2,
   "metadata": {
    "collapsed": false
   },
   "outputs": [
    {
     "name": "stdout",
     "output_type": "stream",
     "text": [
      "/home/trooper/Documents/Nature\n",
      "/home/trooper/Documents/Nature/train\n"
     ]
    }
   ],
   "source": [
    "% cd /home/trooper/Documents/Nature\n",
    "% rm -r train\n",
    "% rm -r valid\n",
    "% mkdir train valid\n",
    "% cp -r train_orig/* train\n",
    "% cd train\n",
    "\n",
    "# pool_counter = 1\n",
    "\n",
    "for fish_class in glob.glob('*'): os.mkdir('../valid/' + fish_class)\n",
    "\n",
    "rnd_ord = np.random.permutation(glob.glob('*/*.jpg'))\n",
    "for i in range(500): os.rename(rnd_ord[i], '../valid/' + rnd_ord[i])"
   ]
  },
  {
   "cell_type": "markdown",
   "metadata": {},
   "source": [
    "## VGG Batchnorm"
   ]
  },
  {
   "cell_type": "code",
   "execution_count": 20,
   "metadata": {
    "collapsed": true
   },
   "outputs": [],
   "source": [
    "vgg_mean = np.array([123.68, 116.779, 103.939], dtype=np.float32).reshape((3,1,1))\n",
    "def vgg_preprocess(x):\n",
    "    x = x - vgg_mean\n",
    "    return x[:, ::-1]\n",
    "\n",
    "def VGG_16(size=(224, 224), weights_path='/home/trooper/Documents/Nature/vgg16.h5'):\n",
    "    model = Sequential()\n",
    "    model.add(Lambda(vgg_preprocess, input_shape=(3,)+size))\n",
    "    model.add(ZeroPadding2D((1,1)))\n",
    "    model.add(Convolution2D(64, 3, 3, activation='relu'))\n",
    "    model.add(ZeroPadding2D((1,1)))\n",
    "    model.add(Convolution2D(64, 3, 3, activation='relu'))\n",
    "    model.add(MaxPooling2D((2,2), strides=(2,2)))\n",
    "\n",
    "    model.add(ZeroPadding2D((1,1)))\n",
    "    model.add(Convolution2D(128, 3, 3, activation='relu'))\n",
    "    model.add(ZeroPadding2D((1,1)))\n",
    "    model.add(Convolution2D(128, 3, 3, activation='relu'))\n",
    "    model.add(MaxPooling2D((2,2), strides=(2,2)))\n",
    "\n",
    "    model.add(ZeroPadding2D((1,1)))\n",
    "    model.add(Convolution2D(256, 3, 3, activation='relu'))\n",
    "    model.add(ZeroPadding2D((1,1)))\n",
    "    model.add(Convolution2D(256, 3, 3, activation='relu'))\n",
    "    model.add(ZeroPadding2D((1,1)))\n",
    "    model.add(Convolution2D(256, 3, 3, activation='relu'))\n",
    "    model.add(MaxPooling2D((2,2), strides=(2,2)))\n",
    "\n",
    "    model.add(ZeroPadding2D((1,1)))\n",
    "    model.add(Convolution2D(512, 3, 3, activation='relu'))\n",
    "    model.add(ZeroPadding2D((1,1)))\n",
    "    model.add(Convolution2D(512, 3, 3, activation='relu'))\n",
    "    model.add(ZeroPadding2D((1,1)))\n",
    "    model.add(Convolution2D(512, 3, 3, activation='relu'))\n",
    "    model.add(MaxPooling2D((2,2), strides=(2,2)))\n",
    "\n",
    "    model.add(ZeroPadding2D((1,1)))\n",
    "    model.add(Convolution2D(512, 3, 3, activation='relu'))\n",
    "    model.add(ZeroPadding2D((1,1)))\n",
    "    model.add(Convolution2D(512, 3, 3, activation='relu'))\n",
    "    model.add(ZeroPadding2D((1,1)))\n",
    "    model.add(Convolution2D(512, 3, 3, activation='relu'))\n",
    "    model.add(MaxPooling2D((2,2), strides=(2,2)))\n",
    "\n",
    "    model.add(Flatten())\n",
    "    model.add(Dense(4096, activation='relu'))\n",
    "    model.add(BatchNormalization())\n",
    "    model.add(Dropout(0.5))\n",
    "    model.add(Dense(4096, activation='relu'))\n",
    "    model.add(BatchNormalization())\n",
    "    model.add(Dropout(0.4))\n",
    "    model.add(Dense(1000, activation='softmax'))\n",
    "\n",
    "    if weights_path:\n",
    "        FILE_PATH = 'http://www.platform.ai/models/'\n",
    "        fname = 'vgg16_bn.h5'\n",
    "        model.load_weights(get_file(fname, FILE_PATH+fname, cache_subdir='models'))\n",
    "\n",
    "    return model"
   ]
  },
  {
   "cell_type": "markdown",
   "metadata": {},
   "source": [
    "## Finetune"
   ]
  },
  {
   "cell_type": "code",
   "execution_count": 21,
   "metadata": {
    "collapsed": false
   },
   "outputs": [
    {
     "data": {
      "text/plain": [
       "u'/home/ubuntu/fish'"
      ]
     },
     "execution_count": 21,
     "metadata": {},
     "output_type": "execute_result"
    }
   ],
   "source": [
    "%pwd"
   ]
  },
  {
   "cell_type": "code",
   "execution_count": null,
   "metadata": {
    "collapsed": true
   },
   "outputs": [],
   "source": [
    "from vgg16bn import Vgg16BN\n",
    "model = vgg_ft_bn(8)"
   ]
  },
  {
   "cell_type": "code",
   "execution_count": 22,
   "metadata": {
    "collapsed": false
   },
   "outputs": [],
   "source": [
    "size = (224, 224)\n",
    "model = VGG_16(size=size)\n",
    "model.pop(); model.pop(); model.pop(); model.pop(); model.pop();\n",
    "\n",
    "for layer in model.layers:\n",
    "    layer.trainable = False\n",
    "\n",
    "model.add(Dropout(0.2))\n",
    "model.add(Dense(4096, activation='relu'))\n",
    "model.add(BatchNormalization())\n",
    "model.add(Dropout(0.3))\n",
    "model.add(Dense(8, activation='softmax'))"
   ]
  },
  {
   "cell_type": "code",
   "execution_count": 23,
   "metadata": {
    "collapsed": false
   },
   "outputs": [
    {
     "name": "stdout",
     "output_type": "stream",
     "text": [
      "____________________________________________________________________________________________________\n",
      "Layer (type)                     Output Shape          Param #     Connected to                     \n",
      "====================================================================================================\n",
      "lambda_6 (Lambda)                (None, 3, 224, 224)   0           lambda_input_6[0][0]             \n",
      "____________________________________________________________________________________________________\n",
      "zeropadding2d_66 (ZeroPadding2D) (None, 3, 226, 226)   0           lambda_6[0][0]                   \n",
      "____________________________________________________________________________________________________\n",
      "convolution2d_66 (Convolution2D) (None, 64, 224, 224)  0           zeropadding2d_66[0][0]           \n",
      "____________________________________________________________________________________________________\n",
      "zeropadding2d_67 (ZeroPadding2D) (None, 64, 226, 226)  0           convolution2d_66[0][0]           \n",
      "____________________________________________________________________________________________________\n",
      "convolution2d_67 (Convolution2D) (None, 64, 224, 224)  0           zeropadding2d_67[0][0]           \n",
      "____________________________________________________________________________________________________\n",
      "maxpooling2d_26 (MaxPooling2D)   (None, 64, 112, 112)  0           convolution2d_67[0][0]           \n",
      "____________________________________________________________________________________________________\n",
      "zeropadding2d_68 (ZeroPadding2D) (None, 64, 114, 114)  0           maxpooling2d_26[0][0]            \n",
      "____________________________________________________________________________________________________\n",
      "convolution2d_68 (Convolution2D) (None, 128, 112, 112) 0           zeropadding2d_68[0][0]           \n",
      "____________________________________________________________________________________________________\n",
      "zeropadding2d_69 (ZeroPadding2D) (None, 128, 114, 114) 0           convolution2d_68[0][0]           \n",
      "____________________________________________________________________________________________________\n",
      "convolution2d_69 (Convolution2D) (None, 128, 112, 112) 0           zeropadding2d_69[0][0]           \n",
      "____________________________________________________________________________________________________\n",
      "maxpooling2d_27 (MaxPooling2D)   (None, 128, 56, 56)   0           convolution2d_69[0][0]           \n",
      "____________________________________________________________________________________________________\n",
      "zeropadding2d_70 (ZeroPadding2D) (None, 128, 58, 58)   0           maxpooling2d_27[0][0]            \n",
      "____________________________________________________________________________________________________\n",
      "convolution2d_70 (Convolution2D) (None, 256, 56, 56)   0           zeropadding2d_70[0][0]           \n",
      "____________________________________________________________________________________________________\n",
      "zeropadding2d_71 (ZeroPadding2D) (None, 256, 58, 58)   0           convolution2d_70[0][0]           \n",
      "____________________________________________________________________________________________________\n",
      "convolution2d_71 (Convolution2D) (None, 256, 56, 56)   0           zeropadding2d_71[0][0]           \n",
      "____________________________________________________________________________________________________\n",
      "zeropadding2d_72 (ZeroPadding2D) (None, 256, 58, 58)   0           convolution2d_71[0][0]           \n",
      "____________________________________________________________________________________________________\n",
      "convolution2d_72 (Convolution2D) (None, 256, 56, 56)   0           zeropadding2d_72[0][0]           \n",
      "____________________________________________________________________________________________________\n",
      "maxpooling2d_28 (MaxPooling2D)   (None, 256, 28, 28)   0           convolution2d_72[0][0]           \n",
      "____________________________________________________________________________________________________\n",
      "zeropadding2d_73 (ZeroPadding2D) (None, 256, 30, 30)   0           maxpooling2d_28[0][0]            \n",
      "____________________________________________________________________________________________________\n",
      "convolution2d_73 (Convolution2D) (None, 512, 28, 28)   0           zeropadding2d_73[0][0]           \n",
      "____________________________________________________________________________________________________\n",
      "zeropadding2d_74 (ZeroPadding2D) (None, 512, 30, 30)   0           convolution2d_73[0][0]           \n",
      "____________________________________________________________________________________________________\n",
      "convolution2d_74 (Convolution2D) (None, 512, 28, 28)   0           zeropadding2d_74[0][0]           \n",
      "____________________________________________________________________________________________________\n",
      "zeropadding2d_75 (ZeroPadding2D) (None, 512, 30, 30)   0           convolution2d_74[0][0]           \n",
      "____________________________________________________________________________________________________\n",
      "convolution2d_75 (Convolution2D) (None, 512, 28, 28)   0           zeropadding2d_75[0][0]           \n",
      "____________________________________________________________________________________________________\n",
      "maxpooling2d_29 (MaxPooling2D)   (None, 512, 14, 14)   0           convolution2d_75[0][0]           \n",
      "____________________________________________________________________________________________________\n",
      "zeropadding2d_76 (ZeroPadding2D) (None, 512, 16, 16)   0           maxpooling2d_29[0][0]            \n",
      "____________________________________________________________________________________________________\n",
      "convolution2d_76 (Convolution2D) (None, 512, 14, 14)   0           zeropadding2d_76[0][0]           \n",
      "____________________________________________________________________________________________________\n",
      "zeropadding2d_77 (ZeroPadding2D) (None, 512, 16, 16)   0           convolution2d_76[0][0]           \n",
      "____________________________________________________________________________________________________\n",
      "convolution2d_77 (Convolution2D) (None, 512, 14, 14)   0           zeropadding2d_77[0][0]           \n",
      "____________________________________________________________________________________________________\n",
      "zeropadding2d_78 (ZeroPadding2D) (None, 512, 16, 16)   0           convolution2d_77[0][0]           \n",
      "____________________________________________________________________________________________________\n",
      "convolution2d_78 (Convolution2D) (None, 512, 14, 14)   0           zeropadding2d_78[0][0]           \n",
      "____________________________________________________________________________________________________\n",
      "maxpooling2d_30 (MaxPooling2D)   (None, 512, 7, 7)     0           convolution2d_78[0][0]           \n",
      "____________________________________________________________________________________________________\n",
      "flatten_6 (Flatten)              (None, 25088)         0           maxpooling2d_30[0][0]            \n",
      "____________________________________________________________________________________________________\n",
      "dense_20 (Dense)                 (None, 4096)          0           flatten_6[0][0]                  \n",
      "____________________________________________________________________________________________________\n",
      "batchnormalization_13 (BatchNorma(None, 4096)          0           dense_20[0][0]                   \n",
      "____________________________________________________________________________________________________\n",
      "dropout_17 (Dropout)             (None, 4096)          0           batchnormalization_13[0][0]      \n",
      "____________________________________________________________________________________________________\n",
      "dense_23 (Dense)                 (None, 4096)          16781312    dropout_17[0][0]                 \n",
      "____________________________________________________________________________________________________\n",
      "batchnormalization_15 (BatchNorma(None, 4096)          8192        dense_23[0][0]                   \n",
      "____________________________________________________________________________________________________\n",
      "dropout_18 (Dropout)             (None, 4096)          0           batchnormalization_15[0][0]      \n",
      "____________________________________________________________________________________________________\n",
      "dense_24 (Dense)                 (None, 8)             32776       dropout_18[0][0]                 \n",
      "====================================================================================================\n",
      "Total params: 16822280\n",
      "____________________________________________________________________________________________________\n"
     ]
    }
   ],
   "source": [
    "model.summary()"
   ]
  },
  {
   "cell_type": "markdown",
   "metadata": {},
   "source": [
    "## Train, Validate generator"
   ]
  },
  {
   "cell_type": "code",
   "execution_count": 24,
   "metadata": {
    "collapsed": false
   },
   "outputs": [
    {
     "name": "stdout",
     "output_type": "stream",
     "text": [
      "/home/ubuntu/fish/data/train\n"
     ]
    }
   ],
   "source": [
    "%cd data/train"
   ]
  },
  {
   "cell_type": "code",
   "execution_count": 32,
   "metadata": {
    "collapsed": false
   },
   "outputs": [
    {
     "name": "stdout",
     "output_type": "stream",
     "text": [
      "Found 3277 images belonging to 8 classes.\n",
      "Found 500 images belonging to 8 classes.\n"
     ]
    }
   ],
   "source": [
    "nb_train_samples = len(glob.glob('*/*.jpg'))\n",
    "nb_validation_samples = len(glob.glob('../valid/*/*.jpg'))\n",
    "nb_epoch = 50\n",
    "bath_size = 32\n",
    "nb_test_samples = 1000\n",
    "\n",
    "classes = ['ALB', 'BET', 'DOL', 'LAG', 'NoF', 'OTHER', 'SHARK', 'YFT']\n",
    "\n",
    "train_datagen = ImageDataGenerator(\n",
    "        shear_range=0.2,\n",
    "        zoom_range=0.1,\n",
    "        rotation_range=10.,\n",
    "        width_shift_range=0.2,\n",
    "        height_shift_range=0.2,\n",
    "        horizontal_flip=True)\n",
    "\n",
    "train_generator = train_datagen.flow_from_directory(\n",
    "        '../train/',\n",
    "        target_size=size,\n",
    "        batch_size=bath_size,\n",
    "        shuffle = True,\n",
    "        classes=classes,\n",
    "        class_mode='categorical')\n",
    "\n",
    "valid_datagen = ImageDataGenerator()\n",
    "\n",
    "validation_generator = valid_datagen.flow_from_directory(\n",
    "        '../valid/',\n",
    "        target_size=size,\n",
    "        batch_size=bath_size,\n",
    "        shuffle = True,\n",
    "        classes=classes,\n",
    "        class_mode='categorical')\n",
    "\n",
    "callbacks = [EarlyStopping(monitor='val_loss', patience=1, verbose=0)]\n",
    "model.compile(loss='categorical_crossentropy', optimizer=\"adadelta\", \\\n",
    "              metrics=[\"accuracy\"])\n",
    "\n"
   ]
  },
  {
   "cell_type": "code",
   "execution_count": 30,
   "metadata": {
    "collapsed": false
   },
   "outputs": [
    {
     "data": {
      "text/plain": [
       "array(1.0, dtype=float32)"
      ]
     },
     "execution_count": 30,
     "metadata": {},
     "output_type": "execute_result"
    }
   ],
   "source": []
  },
  {
   "cell_type": "code",
   "execution_count": 34,
   "metadata": {
    "collapsed": false
   },
   "outputs": [
    {
     "name": "stdout",
     "output_type": "stream",
     "text": [
      "Epoch 1/3\n",
      "3277/3277 [==============================] - 98s - loss: 0.7349 - acc: 0.7907 - val_loss: 0.7914 - val_acc: 0.7940\n",
      "Epoch 2/3\n",
      "3277/3277 [==============================] - 97s - loss: 0.7421 - acc: 0.7894 - val_loss: 0.6002 - val_acc: 0.8360\n",
      "Epoch 3/3\n",
      "3277/3277 [==============================] - 97s - loss: 0.6559 - acc: 0.8026 - val_loss: 0.6188 - val_acc: 0.8380\n"
     ]
    }
   ],
   "source": [
    "# fine-tune the model\n",
    "# model.optimizer.lr = 0.001\n",
    "hist = model.fit_generator(\n",
    "        train_generator,\n",
    "        samples_per_epoch=nb_train_samples,\n",
    "        nb_epoch=20,\n",
    "        validation_data=validation_generator,\n",
    "        nb_val_samples=nb_validation_samples,\n",
    "        callbacks=callbacks)"
   ]
  },
  {
   "cell_type": "markdown",
   "metadata": {},
   "source": [
    "## Plots"
   ]
  },
  {
   "cell_type": "code",
   "execution_count": 6,
   "metadata": {
    "collapsed": false
   },
   "outputs": [
    {
     "data": {
      "image/png": "[encoded data removed]",
      "text/plain": [
       "<matplotlib.figure.Figure at 0x7ff25e4c0810>"
      ]
     },
     "metadata": {},
     "output_type": "display_data"
    }
   ],
   "source": [
    "# summarize history for accuracy\n",
    "plt.figure(figsize=(15, 5))\n",
    "plt.subplot(1, 2, 1)\n",
    "plt.plot(hist.history['acc']); plt.plot(hist.history['val_acc']);\n",
    "plt.title('model accuracy'); plt.ylabel('accuracy');\n",
    "plt.xlabel('epoch'); plt.legend(['train', 'valid'], loc='upper left');\n",
    "\n",
    "# summarize history for loss\n",
    "plt.subplot(1, 2, 2)\n",
    "plt.plot(hist.history['loss']); plt.plot(hist.history['val_loss']);\n",
    "plt.title('model loss'); plt.ylabel('loss');\n",
    "plt.xlabel('epoch'); plt.legend(['train', 'valid'], loc='upper left');\n",
    "plt.show()"
   ]
  },
  {
   "cell_type": "code",
   "execution_count": 7,
   "metadata": {
    "collapsed": false
   },
   "outputs": [],
   "source": [
    "model.save_weights('../pickles/vgg16_aug_lessdrop.pkl')"
   ]
  },
  {
   "cell_type": "markdown",
   "metadata": {},
   "source": [
    "## Test generator"
   ]
  },
  {
   "cell_type": "code",
   "execution_count": 9,
   "metadata": {
    "collapsed": false
   },
   "outputs": [
    {
     "name": "stdout",
     "output_type": "stream",
     "text": [
      "Predictions for Augmented - 0\n",
      "Found 1000 images belonging to 1 classes.\n",
      "Predictions for Augmented - 1\n",
      "Found 1000 images belonging to 1 classes.\n",
      "Predictions for Augmented - 2\n",
      "Found 1000 images belonging to 1 classes.\n",
      "Predictions for Augmented - 3\n",
      "Found 1000 images belonging to 1 classes.\n",
      "Predictions for Augmented - 4\n",
      "Found 1000 images belonging to 1 classes.\n"
     ]
    }
   ],
   "source": [
    "test_aug = 5\n",
    "test_datagen = ImageDataGenerator(\n",
    "        shear_range=0.2,\n",
    "        zoom_range=0.1,\n",
    "        rotation_range=10.,\n",
    "        width_shift_range=0.2,\n",
    "        height_shift_range=0.2,\n",
    "        horizontal_flip=True)\n",
    "\n",
    "for aug in range(test_aug):\n",
    "    print('Predictions for Augmented -', aug)\n",
    "    random_seed = np.random.random_integers(0, 100000)\n",
    "\n",
    "    test_generator = test_datagen.flow_from_directory(\n",
    "            '../test/',\n",
    "            target_size=size,\n",
    "            batch_size=bath_size,\n",
    "            shuffle = False,\n",
    "            seed = random_seed,\n",
    "            classes = None,\n",
    "            class_mode = None)\n",
    "\n",
    "    test_image_list = test_generator.filenames\n",
    "    if aug == 0:\n",
    "        predictions = model.predict_generator(test_generator, nb_test_samples)\n",
    "    else:\n",
    "        predictions += model.predict_generator(test_generator, nb_test_samples)\n",
    "\n",
    "predictions /= test_aug"
   ]
  },
  {
   "cell_type": "markdown",
   "metadata": {},
   "source": [
    "## Predictions"
   ]
  },
  {
   "cell_type": "code",
   "execution_count": 10,
   "metadata": {
    "collapsed": false
   },
   "outputs": [
    {
     "name": "stdout",
     "output_type": "stream",
     "text": [
      "Begin to write submission file ..\n",
      "0 / 1000\n",
      "100 / 1000\n",
      "200 / 1000\n",
      "300 / 1000\n",
      "400 / 1000\n",
      "500 / 1000\n",
      "600 / 1000\n",
      "700 / 1000\n",
      "800 / 1000\n",
      "900 / 1000\n"
     ]
    }
   ],
   "source": [
    "# clip predictions\n",
    "c = 0\n",
    "preds = np.clip(predictions, c, 1-c)\n",
    "\n",
    "print('Begin to write submission file ..')\n",
    "f_submit = open(os.path.join('/home/trooper/Documents/Nature/pooled', \\\n",
    "                             'submit_' + str(pool_counter) +'.csv'), 'w')\n",
    "f_submit.write('image,ALB,BET,DOL,LAG,NoF,OTHER,SHARK,YFT\\n')\n",
    "for i, image_name in enumerate(test_generator.filenames):\n",
    "    pred = ['%.6f' % p for p in preds[i, :]]\n",
    "    if i%100 == 0:\n",
    "        print(i, '/', 1000)\n",
    "    f_submit.write('%s,%s\\n' % (os.path.basename(image_name), ','.join(pred)))\n",
    "\n",
    "f_submit.close()"
   ]
  }
 ],
 "metadata": {
  "kernelspec": {
   "display_name": "Python [default]",
   "language": "python",
   "name": "python2"
  },
  "language_info": {
   "codemirror_mode": {
    "name": "ipython",
    "version": 2
   },
   "file_extension": ".py",
   "mimetype": "text/x-python",
   "name": "python",
   "nbconvert_exporter": "python",
   "pygments_lexer": "ipython2",
   "version": "2.7.12"
  }
 },
 "nbformat": 4,
 "nbformat_minor": 0
}
