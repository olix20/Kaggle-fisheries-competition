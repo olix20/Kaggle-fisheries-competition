{
 "cells": [
  {
   "cell_type": "code",
   "execution_count": 1,
   "metadata": {
    "collapsed": false
   },
   "outputs": [
    {
     "name": "stderr",
     "output_type": "stream",
     "text": [
      "Using gpu device 0: Tesla K80 (CNMeM is disabled, cuDNN 5103)\n",
      "/home/ubuntu/anaconda2/lib/python2.7/site-packages/theano/sandbox/cuda/__init__.py:600: UserWarning: Your cuDNN version is more recent than the one Theano officially supports. If you see any problems, try updating Theano or downgrading cuDNN to version 5.\n",
      "  warnings.warn(warn)\n",
      "Using Theano backend.\n"
     ]
    }
   ],
   "source": [
    "%matplotlib inline\n",
    "import utils#; reload(utils)\n",
    "from utils import *\n",
    "from __future__ import division, print_function\n",
    "\n",
    "\n",
    "import os, json\n",
    "from glob import glob\n",
    "import numpy as np\n",
    "from scipy import misc, ndimage\n",
    "from scipy.ndimage.interpolation import zoom\n",
    "import cv2 "
   ]
  },
  {
   "cell_type": "code",
   "execution_count": 6,
   "metadata": {
    "collapsed": true
   },
   "outputs": [],
   "source": [
    "ROOT_DIR = os.getcwd()\n",
    "DATA_HOME_DIR = ROOT_DIR + '/data/'\n",
    "\n",
    "source_path = DATA_HOME_DIR+\"cropped_nof_excl/train_fullsize/\"\n",
    "export_path = DATA_HOME_DIR+'cropped_nof_excl/train/'\n",
    "\n",
    "crop_width = 450\n",
    "\n",
    "anno_classes = ['alb', 'bet', 'dol', 'lag', 'other', 'shark', 'yft']\n"
   ]
  },
  {
   "cell_type": "markdown",
   "metadata": {},
   "source": [
    "#### make validation subdirectories"
   ]
  },
  {
   "cell_type": "code",
   "execution_count": 7,
   "metadata": {
    "collapsed": false,
    "scrolled": true
   },
   "outputs": [],
   "source": [
    "# % cd data/nof_excl/train\n",
    "# g = glob('*')\n",
    "# for d in g: \n",
    "#     os.mkdir('../../cropped_nof_excl/train/'+d)\n",
    "# #     os.mkdir('../../cropped_nof_excl/valid/'+d)"
   ]
  },
  {
   "cell_type": "code",
   "execution_count": 8,
   "metadata": {
    "collapsed": false
   },
   "outputs": [],
   "source": [
    "#load annotations\n",
    "\n",
    "bb_json = {}\n",
    "\n",
    "j = json.load(open('{}/all_fish_labels.json'.format(\"data\"), 'r'))\n",
    "\n",
    "for  i , l in enumerate(j):\n",
    "    filename = l['filename'].split('/')[-1]\n",
    "    if 'annotations' in l.keys() and len(l['annotations'])>0:\n",
    "            bb_json[filename] = sorted(\n",
    "                l['annotations'], key=lambda x: x['height']*x['width'])[-1]\n",
    "\n",
    "    if len(l['annotations']) ==0:\n",
    "        bb_json[filename]  = {'height': 0., 'width': 0., 'x': 0., 'y': 0.}\n"
   ]
  },
  {
   "cell_type": "code",
   "execution_count": 9,
   "metadata": {
    "collapsed": false
   },
   "outputs": [
    {
     "data": {
      "text/plain": [
       "3312"
      ]
     },
     "execution_count": 9,
     "metadata": {},
     "output_type": "execute_result"
    }
   ],
   "source": [
    "len(bb_json)"
   ]
  },
  {
   "cell_type": "code",
   "execution_count": 10,
   "metadata": {
    "collapsed": false
   },
   "outputs": [],
   "source": [
    "for folder in glob(os.path.join(source_path, '*')):\n",
    "    \n",
    "       \n",
    "    for f in glob(os.path.join(folder, '*')):\n",
    "        img = cv2.imread(f)\n",
    "#         plt.imshow(img)\n",
    "        img_width = img.shape[1]\n",
    "        img_height = img.shape[0]\n",
    "        \n",
    "        \n",
    "        bb = bb_json[f.split('/')[-1]]\n",
    "        x = bb['x'] #bottom left\n",
    "        y = bb['y']\n",
    "          \n",
    "        \n",
    "        #find center of the box\n",
    "\n",
    "        cX = x + bb['width']/2\n",
    "        cY = y + bb['height']/2\n",
    "\n",
    "\n",
    "        #calculate boundries of bounding box (overriding x,y to make bbox bigger)\n",
    "        x = max(cX - crop_width/2, 0)\n",
    "        y = max(cY - crop_width/2, 0)\n",
    "      \n",
    "        if x + crop_width > img_width:\n",
    "            x = img_width - crop_width\n",
    "        if y + crop_width > img_height:\n",
    "            y = img_height - crop_width\n",
    "\n",
    "        \n",
    "        x = int(x)\n",
    "        y = int(y)\n",
    "        \n",
    "##### plot bounding box    \n",
    "#         cv2.rectangle(img,(x,y),(x+crop_width,y+crop_width),color=(255, 255, 255))\n",
    "#         plt.imshow(img)\n",
    "\n",
    "            \n",
    "    ##### crop the image and save\n",
    "        crop_img = img[y:y+crop_width, x:x+crop_width]\n",
    "#         plt.imshow(crop_img)\n",
    "        \n",
    "        foldername = folder.split('/')[-1]\n",
    "        filename = f.split('/')[-1]\n",
    "#         print(export_path+foldername+\"/\"+filename)\n",
    "        cv2.imwrite(export_path+foldername+\"/\"+filename,crop_img)    \n",
    "#         break"
   ]
  },
  {
   "cell_type": "code",
   "execution_count": null,
   "metadata": {
    "collapsed": true
   },
   "outputs": [],
   "source": []
  }
 ],
 "metadata": {
  "anaconda-cloud": {},
  "kernelspec": {
   "display_name": "Python [conda root]",
   "language": "python",
   "name": "conda-root-py"
  },
  "language_info": {
   "codemirror_mode": {
    "name": "ipython",
    "version": 2
   },
   "file_extension": ".py",
   "mimetype": "text/x-python",
   "name": "python",
   "nbconvert_exporter": "python",
   "pygments_lexer": "ipython2",
   "version": "2.7.12"
  }
 },
 "nbformat": 4,
 "nbformat_minor": 1
}
