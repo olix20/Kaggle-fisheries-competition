{
 "cells": [
  {
   "cell_type": "code",
   "execution_count": 10,
   "metadata": {
    "collapsed": true
   },
   "outputs": [],
   "source": [
    "import cv2\n",
    "from matplotlib import pyplot as plt\n",
    "import numpy as np\n",
    "%matplotlib inline \n",
    "\n",
    "import os \n",
    "from subprocess import check_output\n"
   ]
  },
  {
   "cell_type": "code",
   "execution_count": 11,
   "metadata": {
    "collapsed": false
   },
   "outputs": [],
   "source": [
    "ROOT_DIR = os.getcwd()\n",
    "DATA_HOME_DIR = ROOT_DIR + '/data/'\n",
    "\n",
    "path = DATA_HOME_DIR+\"fishnofish/\"\n",
    "export_path = path + \"preprocessed/\""
   ]
  },
  {
   "cell_type": "markdown",
   "metadata": {},
   "source": [
    "### Contrast Enhancement "
   ]
  },
  {
   "cell_type": "code",
   "execution_count": 25,
   "metadata": {
    "collapsed": true
   },
   "outputs": [],
   "source": [
    "\n",
    "def normalize_histogram(img):\n",
    "\n",
    "\n",
    "    #-----Converting image to LAB Color model----------------------------------- \n",
    "    lab= cv2.cvtColor(img, cv2.COLOR_BGR2LAB)\n",
    "\n",
    "    #-----Splitting the LAB image to different channels-------------------------\n",
    "    l, a, b = cv2.split(lab)\n",
    "\n",
    "    #-----Applying CLAHE to L-channel-------------------------------------------\n",
    "    clahe = cv2.createCLAHE(clipLimit=1.5, tileGridSize=(8,8)) #the higher the clip limit the higher distortion \n",
    "    cl = clahe.apply(l)\n",
    "\n",
    "    #-----Merge the CLAHE enhanced L-channel with the a and b channel-----------\n",
    "    limg = cv2.merge((cl,a,b))\n",
    "\n",
    "    #-----Converting image from LAB Color model to RGB model--------------------\n",
    "    final = cv2.cvtColor(limg, cv2.COLOR_LAB2BGR)\n",
    "    return final\n",
    "\n"
   ]
  },
  {
   "cell_type": "markdown",
   "metadata": {},
   "source": [
    "### Fish no fish"
   ]
  },
  {
   "cell_type": "code",
   "execution_count": 49,
   "metadata": {
    "collapsed": false
   },
   "outputs": [],
   "source": [
    "\n",
    "#training photos \n",
    "def process_and_write_files(set_name): #make sure it has trailing slashes\n",
    "    \n",
    "    for folder in check_output([\"ls\",path+set_name]).decode(\"utf8\").strip().split('\\n'):\n",
    "        \n",
    "        for f in check_output([\"ls\",path+set_name+folder]).decode(\"utf8\").strip().split('\\n'):\n",
    "            \n",
    "            \n",
    "            #-----Reading the image-----------------------------------------------------\n",
    "            img = cv2.imread(path+set_name+folder+\"/\"+f, 1)\n",
    "            processed = normalize_histogram(img)\n",
    "    #         print (path+\"train/\"+folder+\"/\"+f)\n",
    "\n",
    "            #-----check output\n",
    "    #         plt.figure(figsize = (15,10))\n",
    "    #         sidebyside = np.hstack((img,processed))\n",
    "    #         plt.imshow(sidebyside)\n",
    "\n",
    "            cv2.imwrite(export_path+set_name+folder+\"/\"+f,processed)\n",
    "\n",
    "\n",
    "        \n"
   ]
  },
  {
   "cell_type": "code",
   "execution_count": 38,
   "metadata": {
    "collapsed": false
   },
   "outputs": [],
   "source": [
    "assert (check_output([\"ls\",path+\"train/Fish/\"]) == check_output([\"ls\",export_path+\"train/Fish/\"]))\n",
    "assert (check_output([\"ls\",path+\"train/NoF/\"]) == check_output([\"ls\",export_path+\"train/NoF/\"]))"
   ]
  },
  {
   "cell_type": "code",
   "execution_count": 40,
   "metadata": {
    "collapsed": true
   },
   "outputs": [],
   "source": [
    "#validation set\n",
    "process_and_write_files(\"valid/\")\n"
   ]
  },
  {
   "cell_type": "code",
   "execution_count": 41,
   "metadata": {
    "collapsed": true
   },
   "outputs": [],
   "source": [
    "assert (check_output([\"ls\",path+\"valid/Fish/\"]) == check_output([\"ls\",export_path+\"valid/Fish/\"]))\n",
    "assert (check_output([\"ls\",path+\"valid/NoF/\"]) == check_output([\"ls\",export_path+\"valid/NoF/\"]))"
   ]
  },
  {
   "cell_type": "code",
   "execution_count": 50,
   "metadata": {
    "collapsed": false
   },
   "outputs": [
    {
     "name": "stdout",
     "output_type": "stream",
     "text": [
      "CPU times: user 0 ns, sys: 0 ns, total: 0 ns\n",
      "Wall time: 8.11 µs\n",
      "test_stg1\n"
     ]
    }
   ],
   "source": [
    "%time\n",
    "\n",
    "#test set\n",
    "process_and_write_files(\"test/\")\n"
   ]
  },
  {
   "cell_type": "code",
   "execution_count": 52,
   "metadata": {
    "collapsed": false
   },
   "outputs": [],
   "source": [
    "assert (check_output([\"ls\",path+\"test/test_stg1/\"]) == check_output([\"ls\",export_path+\"test/test_stg1/\"]))\n",
    "assert (check_output([\"ls\",path+\"test/test_stg1/\"]) == check_output([\"ls\",export_path+\"test/test_stg1/\"]))"
   ]
  },
  {
   "cell_type": "code",
   "execution_count": null,
   "metadata": {
    "collapsed": true
   },
   "outputs": [],
   "source": []
  }
 ],
 "metadata": {
  "anaconda-cloud": {},
  "kernelspec": {
   "display_name": "Python [conda root]",
   "language": "python",
   "name": "conda-root-py"
  },
  "language_info": {
   "codemirror_mode": {
    "name": "ipython",
    "version": 2
   },
   "file_extension": ".py",
   "mimetype": "text/x-python",
   "name": "python",
   "nbconvert_exporter": "python",
   "pygments_lexer": "ipython2",
   "version": "2.7.12"
  }
 },
 "nbformat": 4,
 "nbformat_minor": 1
}
