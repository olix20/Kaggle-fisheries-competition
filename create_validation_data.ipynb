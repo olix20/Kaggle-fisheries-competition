{
 "cells": [
  {
   "cell_type": "code",
   "execution_count": 4,
   "metadata": {
    "collapsed": true
   },
   "outputs": [],
   "source": [
    "import os\n",
    "import numpy as np\n",
    "\n",
    "from glob import glob\n",
    "from collections import defaultdict\n",
    "\n",
    "ROOT_DIR = os.getcwd()\n",
    "DATA_HOME_DIR = ROOT_DIR + '/data/fishnofish'"
   ]
  },
  {
   "cell_type": "code",
   "execution_count": 5,
   "metadata": {
    "collapsed": false
   },
   "outputs": [
    {
     "data": {
      "text/plain": [
       "'/home/ubuntu/fish'"
      ]
     },
     "execution_count": 5,
     "metadata": {},
     "output_type": "execute_result"
    }
   ],
   "source": [
    "ROOT_DIR"
   ]
  },
  {
   "cell_type": "code",
   "execution_count": 6,
   "metadata": {
    "collapsed": false
   },
   "outputs": [
    {
     "data": {
      "text/plain": [
       "'/home/ubuntu/fish/data/fishnofish'"
      ]
     },
     "execution_count": 6,
     "metadata": {},
     "output_type": "execute_result"
    }
   ],
   "source": [
    "DATA_HOME_DIR"
   ]
  },
  {
   "cell_type": "code",
   "execution_count": 7,
   "metadata": {
    "collapsed": true
   },
   "outputs": [],
   "source": [
    "# paths\n",
    "data_path = DATA_HOME_DIR #+ '\\\\sample' \n",
    "\n",
    "# data\n",
    "# classes = [\"ALB\", \"BET\", \"DOL\", \"LAG\", \"OTHER\", \"SHARK\", \"YFT\"]#, \"NoF\""
   ]
  },
  {
   "cell_type": "code",
   "execution_count": 8,
   "metadata": {
    "collapsed": false
   },
   "outputs": [
    {
     "name": "stdout",
     "output_type": "stream",
     "text": [
      "/home/ubuntu/fish/data/fishnofish\n",
      "/home/ubuntu/fish/data/fishnofish/train\n"
     ]
    }
   ],
   "source": [
    "% cd $data_path\n",
    "% cd train"
   ]
  },
  {
   "cell_type": "code",
   "execution_count": 10,
   "metadata": {
    "collapsed": false
   },
   "outputs": [],
   "source": [
    "# for c in classes:  \n",
    "\n",
    "g = glob('*/*.jpg')#.format(c))\n",
    "# shuf = np.random.permutation(g)\n",
    "# os.rename (g[i],\"../valid/{}\".format(shuf[i]))\n",
    "\n",
    "for i in range(len(g)):\n",
    "    os.rename (g[i],\"Fish/{}\".format(g[i].split(\"/\")[1]))\n",
    "# os.rename (shuf[i],\"../valid/{}\".format(shuf[i]))\n",
    "# for i in range(500):\n",
    "#     os.rename(shuf[i], '../valid/' + shuf[i])\n"
   ]
  },
  {
   "cell_type": "code",
   "execution_count": 11,
   "metadata": {
    "collapsed": false
   },
   "outputs": [
    {
     "data": {
      "text/plain": [
       "u'/home/ubuntu/fish/data/fishnofish/train'"
      ]
     },
     "execution_count": 11,
     "metadata": {},
     "output_type": "execute_result"
    }
   ],
   "source": [
    "%pwd\n"
   ]
  },
  {
   "cell_type": "code",
   "execution_count": 23,
   "metadata": {
    "collapsed": false
   },
   "outputs": [],
   "source": [
    "g = glob('NoF/*.jpg')\n",
    "\n",
    "shuf = np.random.permutation(g)\n",
    "\n",
    "for i in range(90):\n",
    "    os.rename(shuf[i], '../valid/' + shuf[i])\n",
    "#     print ('../valid/' + shuf[i])"
   ]
  },
  {
   "cell_type": "code",
   "execution_count": 24,
   "metadata": {
    "collapsed": true
   },
   "outputs": [],
   "source": [
    "g = glob('Fish/*.jpg')\n",
    "\n",
    "shuf = np.random.permutation(g)\n",
    "\n",
    "for i in range((755-90)):\n",
    "    os.rename(shuf[i], '../valid/' + shuf[i])\n",
    "#     print ('../valid/' + shuf[i])"
   ]
  },
  {
   "cell_type": "markdown",
   "metadata": {},
   "source": [
    "make excl-nofish dataset"
   ]
  },
  {
   "cell_type": "code",
   "execution_count": 6,
   "metadata": {
    "collapsed": false
   },
   "outputs": [
    {
     "name": "stdout",
     "output_type": "stream",
     "text": [
      "/home/ubuntu/fish/data/nof_excl\n"
     ]
    }
   ],
   "source": [
    "%cd ~/fish/data/nof_excl\n",
    "# %cd valid"
   ]
  },
  {
   "cell_type": "code",
   "execution_count": 7,
   "metadata": {
    "collapsed": false
   },
   "outputs": [
    {
     "name": "stdout",
     "output_type": "stream",
     "text": [
      "ALB\n",
      "BET\n",
      "DOL\n",
      "LAG\n",
      "OTHER\n",
      "SHARK\n",
      "YFT\n",
      "\n"
     ]
    }
   ],
   "source": [
    "\n",
    "from subprocess import check_output\n",
    "print(check_output([\"ls\", \"train/\"]).decode(\"utf8\"))"
   ]
  },
  {
   "cell_type": "code",
   "execution_count": 19,
   "metadata": {
    "collapsed": false
   },
   "outputs": [
    {
     "name": "stdout",
     "output_type": "stream",
     "text": [
      "('Number of files for the species', u'ALB', ':', 1719)\n",
      "('Number of files for the species', u'BET', ':', 200)\n",
      "('Number of files for the species', u'DOL', ':', 117)\n",
      "('Number of files for the species', u'LAG', ':', 67)\n",
      "('Number of files for the species', u'OTHER', ':', 299)\n",
      "('Number of files for the species', u'SHARK', ':', 176)\n",
      "('Number of files for the species', u'YFT', ':', 734)\n",
      "('total', 3312)\n"
     ]
    },
    {
     "data": {
      "text/plain": [
       "[u'SHARK', u'DOL', u'LAG', u'ALB', u'YFT', u'OTHER', u'BET']"
      ]
     },
     "execution_count": 19,
     "metadata": {},
     "output_type": "execute_result"
    }
   ],
   "source": [
    "sub_folders = check_output([\"ls\", \"train/\"]).decode(\"utf8\").strip().split('\\n')\n",
    "count_dict = {}\n",
    "total = 0 \n",
    "for sub_folder in sub_folders:\n",
    "    num_of_files = len(check_output([\"ls\", \"train/\"+sub_folder]).decode(\"utf8\").strip().split('\\n'))\n",
    "    print(\"Number of files for the species\",sub_folder,\":\",num_of_files)\n",
    "    count_dict[sub_folder] = num_of_files\n",
    "    total += num_of_files\n",
    "    \n",
    "print (\"total\",total)    \n",
    "# list(count_dict)\n",
    "list(count_dict)"
   ]
  },
  {
   "cell_type": "code",
   "execution_count": 41,
   "metadata": {
    "collapsed": false
   },
   "outputs": [
    {
     "name": "stdout",
     "output_type": "stream",
     "text": [
      "/home/ubuntu/fish/data/nof_excl/train\n"
     ]
    }
   ],
   "source": [
    "%pwd\n",
    "% cd train"
   ]
  },
  {
   "cell_type": "code",
   "execution_count": null,
   "metadata": {
    "collapsed": true
   },
   "outputs": [],
   "source": []
  },
  {
   "cell_type": "code",
   "execution_count": 54,
   "metadata": {
    "collapsed": false
   },
   "outputs": [
    {
     "name": "stdout",
     "output_type": "stream",
     "text": [
      "('validation set length: ', 496)\n",
      "('samples from class: ', 29)\n",
      "('samples from class: ', 17)\n",
      "('samples from class: ', 10)\n",
      "('samples from class: ', 44)\n",
      "('samples from class: ', 26)\n",
      "('samples from class: ', 109)\n",
      "235\n"
     ]
    }
   ],
   "source": [
    "validation_length = int(0.15 * total)\n",
    "total_val_length = 0\n",
    "print (\"validation set length: \", validation_length)\n",
    "for c in classes:  #[\"ALB] did it earlier as a test\n",
    "\n",
    "    g = glob('{}/*.jpg'.format(c))\n",
    "    shuf = np.random.permutation(g)\n",
    "\n",
    "    ratio_to_total = 1.0*len(g)/total\n",
    "    samples_from_class = int(ratio_to_total*validation_length)\n",
    "    total_val_length += samples_from_class\n",
    "    print (\"samples from class: \", samples_from_class)\n",
    "\n",
    "    for i in range(samples_from_class):\n",
    "        os.rename (shuf[i],\"../valid/\"+ shuf[i])\n",
    "#         print \"../valid/\"+ shuf[i]\n",
    "\n",
    "print total_val_length"
   ]
  },
  {
   "cell_type": "markdown",
   "metadata": {
    "collapsed": true
   },
   "source": [
    "### make excl-nofish dataset random 400"
   ]
  },
  {
   "cell_type": "code",
   "execution_count": 1,
   "metadata": {
    "collapsed": false
   },
   "outputs": [
    {
     "name": "stdout",
     "output_type": "stream",
     "text": [
      "/home/ubuntu/fish/data/cropped_nof_excl/train\n"
     ]
    },
    {
     "data": {
      "text/plain": [
       "u'/home/ubuntu/fish/data/cropped_nof_excl/train'"
      ]
     },
     "execution_count": 1,
     "metadata": {},
     "output_type": "execute_result"
    }
   ],
   "source": [
    "%cd ~/fish/data/cropped_nof_excl/train\n",
    "# %cd train\n",
    "%pwd"
   ]
  },
  {
   "cell_type": "code",
   "execution_count": 25,
   "metadata": {
    "collapsed": false
   },
   "outputs": [],
   "source": [
    "from glob import glob \n",
    "import numpy as np\n",
    "import os\n",
    "\n",
    "g = glob('*/*.jpg')#.format(c))\n",
    "shuf = np.random.permutation(g)\n",
    "# print len(g)\n",
    "for i in range(400):\n",
    "#         os.rename (g[i],\"Fish/{}\".format(g[i].split(\"/\")[1]))\n",
    "    os.rename (shuf[i],\"../valid/{}\".format(shuf[i]))\n",
    "# for i in range(500):\n",
    "# #     os.rename(shuf[i], '../valid/' + shuf[i])\n"
   ]
  },
  {
   "cell_type": "code",
   "execution_count": null,
   "metadata": {
    "collapsed": true
   },
   "outputs": [],
   "source": []
  }
 ],
 "metadata": {
  "anaconda-cloud": {},
  "kernelspec": {
   "display_name": "Python [conda root]",
   "language": "python",
   "name": "conda-root-py"
  },
  "language_info": {
   "codemirror_mode": {
    "name": "ipython",
    "version": 2
   },
   "file_extension": ".py",
   "mimetype": "text/x-python",
   "name": "python",
   "nbconvert_exporter": "python",
   "pygments_lexer": "ipython2",
   "version": "2.7.12"
  }
 },
 "nbformat": 4,
 "nbformat_minor": 2
}
