{
 "cells": [
  {
   "cell_type": "code",
   "execution_count": 3,
   "metadata": {
    "collapsed": false
   },
   "outputs": [],
   "source": [
    "import utils \n",
    "from utils import *\n",
    "import pandas as pd\n"
   ]
  },
  {
   "cell_type": "code",
   "execution_count": 32,
   "metadata": {
    "collapsed": false
   },
   "outputs": [],
   "source": [
    "\n",
    "classes = ['ALB', 'BET', 'DOL', 'LAG','NoF', 'OTHER', 'SHARK', 'YFT']\n",
    "# nofish_prob = load_array(\"data/fishnofish/results/preds_640_loss_0.0244_acc_0.9913_val_loss_0.2086_val_acc_0.9778.dat\")\n",
    "# nofish_prob = load_array(\"data/fishnofish/results/pred_stg1_fullconv_aug_no_pseudo.dat\")\n",
    "# nofish_prob = load_array(\"data/fishnofish/results/final_stg1_weights_ensumble.dat\")\n",
    "\n",
    "nofish_prob = load_array(\"data/fishnofish/results/final_stg1_weights_ensumble_with_pseudo.dat\")\n",
    "\n",
    "\n",
    "\n",
    "nofish_prob = nofish_prob[:, 1] #nofish class"
   ]
  },
  {
   "cell_type": "code",
   "execution_count": 33,
   "metadata": {
    "collapsed": false
   },
   "outputs": [],
   "source": [
    "cropped_photo_preds_fcn = load_array(\"data/cropped_nof_excl/results/preds_light_aug_cropped_v1.dat\")\n",
    "cropped_photo_preds_dense = load_array(\"data/cropped_nof_excl/results/preds_dense_precomputed_aug_1e7_val_acc_0.9625.dat\")\n",
    "cropped_photo_preds_fcn_orient_crop_hvflipaugs = load_array(\"data/cropped_nof_excl/results/preds_hvflips_aug_cropped_with_orients_v1.dat\") ## from 0.89473 to 0.86956\n",
    "\n",
    "\n",
    "no_crop_preds_fcn = load_array(\"data/nof_excl/results/preds_with_train_n_test_augmentation_val_acc_0.9675.dat\")\n",
    "no_crop_preds_dense = load_array(\"data/nof_excl/results/preds_dense_augx2_1e6_valacc_0.9800.dat\")\n"
   ]
  },
  {
   "cell_type": "code",
   "execution_count": 34,
   "metadata": {
    "collapsed": true
   },
   "outputs": [],
   "source": [
    "ensemble_probs   = (cropped_photo_preds_fcn+cropped_photo_preds_dense+cropped_photo_preds_fcn_orient_crop_hvflipaugs+\n",
    "                    no_crop_preds_fcn+no_crop_preds_dense\n",
    "                   )/5."
   ]
  },
  {
   "cell_type": "code",
   "execution_count": 27,
   "metadata": {
    "collapsed": true
   },
   "outputs": [],
   "source": [
    "def weight_predictions(predictions):\n",
    "    \"\"\"Weights predictions based on probability image contains a fish as predicted by fish detector model\"\"\"\n",
    "    no_fish = predictions[:, 4]\n",
    "    fish = np.delete(predictions, 4, axis=1)\n",
    "\n",
    "    weights = -1. * (no_fish - 1.)\n",
    "    weights = weights.reshape(len(predictions), 1)\n",
    "\n",
    "    fish = weights * fish\n",
    "    preds = np.insert(fish, 4, no_fish, axis=1)\n",
    "\n",
    "    return preds"
   ]
  },
  {
   "cell_type": "code",
   "execution_count": 36,
   "metadata": {
    "collapsed": true
   },
   "outputs": [],
   "source": [
    "with_nofish_probs = np.insert(ensemble_probs, 4, nofish_prob, axis=1)\n",
    "weighted_preds = weight_predictions(with_nofish_probs)"
   ]
  },
  {
   "cell_type": "code",
   "execution_count": 37,
   "metadata": {
    "collapsed": true
   },
   "outputs": [],
   "source": [
    "f = 0.945#0.82\n",
    "subm = np.clip(weighted_preds, (1-f)/7, f)"
   ]
  },
  {
   "cell_type": "code",
   "execution_count": 38,
   "metadata": {
    "collapsed": true
   },
   "outputs": [],
   "source": [
    "raw_test_filenames = load_array(\"data/raw_test_filenames.dat\")"
   ]
  },
  {
   "cell_type": "code",
   "execution_count": 39,
   "metadata": {
    "collapsed": false
   },
   "outputs": [
    {
     "data": {
      "text/html": [
       "<div>\n",
       "<table border=\"1\" class=\"dataframe\">\n",
       "  <thead>\n",
       "    <tr style=\"text-align: right;\">\n",
       "      <th></th>\n",
       "      <th>image</th>\n",
       "      <th>ALB</th>\n",
       "      <th>BET</th>\n",
       "      <th>DOL</th>\n",
       "      <th>LAG</th>\n",
       "      <th>NoF</th>\n",
       "      <th>OTHER</th>\n",
       "      <th>SHARK</th>\n",
       "      <th>YFT</th>\n",
       "    </tr>\n",
       "  </thead>\n",
       "  <tbody>\n",
       "    <tr>\n",
       "      <th>0</th>\n",
       "      <td>img_06237.jpg</td>\n",
       "      <td>0.945000</td>\n",
       "      <td>0.007857</td>\n",
       "      <td>0.007857</td>\n",
       "      <td>0.007857</td>\n",
       "      <td>0.007857</td>\n",
       "      <td>0.007857</td>\n",
       "      <td>0.007857</td>\n",
       "      <td>0.007857</td>\n",
       "    </tr>\n",
       "    <tr>\n",
       "      <th>1</th>\n",
       "      <td>img_06893.jpg</td>\n",
       "      <td>0.550149</td>\n",
       "      <td>0.007857</td>\n",
       "      <td>0.011223</td>\n",
       "      <td>0.007857</td>\n",
       "      <td>0.007857</td>\n",
       "      <td>0.050400</td>\n",
       "      <td>0.007857</td>\n",
       "      <td>0.374571</td>\n",
       "    </tr>\n",
       "    <tr>\n",
       "      <th>2</th>\n",
       "      <td>img_02082.jpg</td>\n",
       "      <td>0.392149</td>\n",
       "      <td>0.007857</td>\n",
       "      <td>0.007857</td>\n",
       "      <td>0.007857</td>\n",
       "      <td>0.582517</td>\n",
       "      <td>0.007857</td>\n",
       "      <td>0.007857</td>\n",
       "      <td>0.022289</td>\n",
       "    </tr>\n",
       "    <tr>\n",
       "      <th>3</th>\n",
       "      <td>img_06261.jpg</td>\n",
       "      <td>0.945000</td>\n",
       "      <td>0.007857</td>\n",
       "      <td>0.007857</td>\n",
       "      <td>0.007857</td>\n",
       "      <td>0.007857</td>\n",
       "      <td>0.007857</td>\n",
       "      <td>0.007857</td>\n",
       "      <td>0.048473</td>\n",
       "    </tr>\n",
       "    <tr>\n",
       "      <th>4</th>\n",
       "      <td>img_03628.jpg</td>\n",
       "      <td>0.945000</td>\n",
       "      <td>0.007857</td>\n",
       "      <td>0.007857</td>\n",
       "      <td>0.007857</td>\n",
       "      <td>0.007857</td>\n",
       "      <td>0.007857</td>\n",
       "      <td>0.007857</td>\n",
       "      <td>0.044586</td>\n",
       "    </tr>\n",
       "  </tbody>\n",
       "</table>\n",
       "</div>"
      ],
      "text/plain": [
       "           image       ALB       BET       DOL       LAG       NoF     OTHER  \\\n",
       "0  img_06237.jpg  0.945000  0.007857  0.007857  0.007857  0.007857  0.007857   \n",
       "1  img_06893.jpg  0.550149  0.007857  0.011223  0.007857  0.007857  0.050400   \n",
       "2  img_02082.jpg  0.392149  0.007857  0.007857  0.007857  0.582517  0.007857   \n",
       "3  img_06261.jpg  0.945000  0.007857  0.007857  0.007857  0.007857  0.007857   \n",
       "4  img_03628.jpg  0.945000  0.007857  0.007857  0.007857  0.007857  0.007857   \n",
       "\n",
       "      SHARK       YFT  \n",
       "0  0.007857  0.007857  \n",
       "1  0.007857  0.374571  \n",
       "2  0.007857  0.022289  \n",
       "3  0.007857  0.048473  \n",
       "4  0.007857  0.044586  "
      ]
     },
     "execution_count": 39,
     "metadata": {},
     "output_type": "execute_result"
    }
   ],
   "source": [
    "subm_name = \"data/submit/preds_orientnnoorient_cropx3_n_nocropx2__ensumble_clip0.945.gz\"\n",
    "\n",
    "submission = pd.DataFrame(subm, columns=classes)\n",
    "submission.insert(0, 'image', raw_test_filenames)\n",
    "submission.head()"
   ]
  },
  {
   "cell_type": "code",
   "execution_count": 40,
   "metadata": {
    "collapsed": false
   },
   "outputs": [
    {
     "data": {
      "text/html": [
       "<a href='data/submit/preds_orientnnoorient_cropx3_n_nocropx2__ensumble_clip0.945.gz' target='_blank'>data/submit/preds_orientnnoorient_cropx3_n_nocropx2__ensumble_clip0.945.gz</a><br>"
      ],
      "text/plain": [
       "/home/ubuntu/fish/data/submit/preds_orientnnoorient_cropx3_n_nocropx2__ensumble_clip0.945.gz"
      ]
     },
     "execution_count": 40,
     "metadata": {},
     "output_type": "execute_result"
    }
   ],
   "source": [
    "submission.to_csv(subm_name, index=False, compression='gzip')\n",
    "FileLink(subm_name)"
   ]
  },
  {
   "cell_type": "markdown",
   "metadata": {},
   "source": [
    "Stage 2"
   ]
  },
  {
   "cell_type": "code",
   "execution_count": 78,
   "metadata": {
    "collapsed": false
   },
   "outputs": [],
   "source": [
    "classes = ['ALB', 'BET', 'DOL', 'LAG','NoF', 'OTHER', 'SHARK', 'YFT']\n",
    "\n",
    "\n",
    "nofish_prob2 = load_array(\"data/fishnofish/results/fishfinal_stg2_weights_ensumble.dat\")\n",
    "nofish_prob2 = nofish_prob2[:, 1] #nofish class"
   ]
  },
  {
   "cell_type": "code",
   "execution_count": 79,
   "metadata": {
    "collapsed": true
   },
   "outputs": [],
   "source": [
    "cropped_photo_preds_fcn2 = load_array(\"data/cropped_nof_excl/results/stg2_preds_light_aug_cropped_v1.dat\")\n",
    "cropped_photo_preds_dense2 = load_array(\"data/cropped_nof_excl/results/stg2_preds_dense_precomputed_aug_1e7_val_acc_0.9625.dat\")\n",
    "cropped_photo_preds_fcn_orient_crop_hvflipaugs2 = load_array(\"data/cropped_nof_excl/results/stg2_preds_hvflips_aug_cropped_with_orients_v1.dat\") ## from 0.89473 to 0.86956\n",
    "\n",
    "\n",
    "no_crop_preds_fcn2 = load_array(\"data/nof_excl/results/stg2_preds_with_train_n_test_augmentation_val_acc_0.9675.dat\")\n",
    "no_crop_preds_dense2 = load_array(\"data/nof_excl/results/stg2_preds_dense_augx2_1e6_valacc_0.9800.dat\")\n"
   ]
  },
  {
   "cell_type": "code",
   "execution_count": 80,
   "metadata": {
    "collapsed": false
   },
   "outputs": [],
   "source": [
    "ensemble_probs2   = (cropped_photo_preds_fcn2+cropped_photo_preds_dense2+cropped_photo_preds_fcn_orient_crop_hvflipaugs2+\n",
    "                    no_crop_preds_fcn2+no_crop_preds_dense2\n",
    "                   )/5."
   ]
  },
  {
   "cell_type": "code",
   "execution_count": 81,
   "metadata": {
    "collapsed": false
   },
   "outputs": [],
   "source": [
    "with_nofish_probs2 = np.insert(ensemble_probs2, 4, nofish_prob2, axis=1)\n",
    "weighted_preds2 = weight_predictions(with_nofish_probs2)"
   ]
  },
  {
   "cell_type": "code",
   "execution_count": 82,
   "metadata": {
    "collapsed": false
   },
   "outputs": [],
   "source": [
    "f2 = 0.87#0.85\n",
    "subm2 = np.clip(weighted_preds2, (1-f2)/7, f2)"
   ]
  },
  {
   "cell_type": "code",
   "execution_count": 83,
   "metadata": {
    "collapsed": true
   },
   "outputs": [],
   "source": [
    "raw_test_filenames2 = load_array(\"data/stg2_raw_test_filenames.dat\")"
   ]
  },
  {
   "cell_type": "code",
   "execution_count": 84,
   "metadata": {
    "collapsed": false
   },
   "outputs": [
    {
     "data": {
      "text/html": [
       "<div>\n",
       "<table border=\"1\" class=\"dataframe\">\n",
       "  <thead>\n",
       "    <tr style=\"text-align: right;\">\n",
       "      <th></th>\n",
       "      <th>image</th>\n",
       "      <th>ALB</th>\n",
       "      <th>BET</th>\n",
       "      <th>DOL</th>\n",
       "      <th>LAG</th>\n",
       "      <th>NoF</th>\n",
       "      <th>OTHER</th>\n",
       "      <th>SHARK</th>\n",
       "      <th>YFT</th>\n",
       "    </tr>\n",
       "  </thead>\n",
       "  <tbody>\n",
       "    <tr>\n",
       "      <th>0</th>\n",
       "      <td>test_stg2/image_05638.jpg</td>\n",
       "      <td>0.612756</td>\n",
       "      <td>0.018571</td>\n",
       "      <td>0.018571</td>\n",
       "      <td>0.018571</td>\n",
       "      <td>0.042343</td>\n",
       "      <td>0.068861</td>\n",
       "      <td>0.018571</td>\n",
       "      <td>0.270428</td>\n",
       "    </tr>\n",
       "    <tr>\n",
       "      <th>1</th>\n",
       "      <td>test_stg2/image_02364.jpg</td>\n",
       "      <td>0.718703</td>\n",
       "      <td>0.125521</td>\n",
       "      <td>0.018571</td>\n",
       "      <td>0.018571</td>\n",
       "      <td>0.018571</td>\n",
       "      <td>0.117505</td>\n",
       "      <td>0.018571</td>\n",
       "      <td>0.018571</td>\n",
       "    </tr>\n",
       "    <tr>\n",
       "      <th>2</th>\n",
       "      <td>test_stg2/image_10663.jpg</td>\n",
       "      <td>0.654566</td>\n",
       "      <td>0.018571</td>\n",
       "      <td>0.018571</td>\n",
       "      <td>0.018571</td>\n",
       "      <td>0.321352</td>\n",
       "      <td>0.018571</td>\n",
       "      <td>0.018571</td>\n",
       "      <td>0.019118</td>\n",
       "    </tr>\n",
       "    <tr>\n",
       "      <th>3</th>\n",
       "      <td>test_stg2/image_00255.jpg</td>\n",
       "      <td>0.870000</td>\n",
       "      <td>0.018571</td>\n",
       "      <td>0.018571</td>\n",
       "      <td>0.018571</td>\n",
       "      <td>0.057787</td>\n",
       "      <td>0.018571</td>\n",
       "      <td>0.018581</td>\n",
       "      <td>0.018784</td>\n",
       "    </tr>\n",
       "    <tr>\n",
       "      <th>4</th>\n",
       "      <td>test_stg2/image_08003.jpg</td>\n",
       "      <td>0.559620</td>\n",
       "      <td>0.032517</td>\n",
       "      <td>0.018571</td>\n",
       "      <td>0.018571</td>\n",
       "      <td>0.346112</td>\n",
       "      <td>0.018571</td>\n",
       "      <td>0.018571</td>\n",
       "      <td>0.044296</td>\n",
       "    </tr>\n",
       "  </tbody>\n",
       "</table>\n",
       "</div>"
      ],
      "text/plain": [
       "                       image       ALB       BET       DOL       LAG  \\\n",
       "0  test_stg2/image_05638.jpg  0.612756  0.018571  0.018571  0.018571   \n",
       "1  test_stg2/image_02364.jpg  0.718703  0.125521  0.018571  0.018571   \n",
       "2  test_stg2/image_10663.jpg  0.654566  0.018571  0.018571  0.018571   \n",
       "3  test_stg2/image_00255.jpg  0.870000  0.018571  0.018571  0.018571   \n",
       "4  test_stg2/image_08003.jpg  0.559620  0.032517  0.018571  0.018571   \n",
       "\n",
       "        NoF     OTHER     SHARK       YFT  \n",
       "0  0.042343  0.068861  0.018571  0.270428  \n",
       "1  0.018571  0.117505  0.018571  0.018571  \n",
       "2  0.321352  0.018571  0.018571  0.019118  \n",
       "3  0.057787  0.018571  0.018581  0.018784  \n",
       "4  0.346112  0.018571  0.018571  0.044296  "
      ]
     },
     "execution_count": 84,
     "metadata": {},
     "output_type": "execute_result"
    }
   ],
   "source": [
    "subm_name2 = \"data/submit/stg2_preds_orientnnoorient_cropx3_n_nocropx2__ensumble_clip0.87.gz\"\n",
    "\n",
    "submission = pd.DataFrame(subm2, columns=classes)\n",
    "submission.insert(0, 'image', raw_test_filenames2)\n",
    "submission.head()"
   ]
  },
  {
   "cell_type": "code",
   "execution_count": 85,
   "metadata": {
    "collapsed": true
   },
   "outputs": [],
   "source": [
    "submission.to_csv(subm_name2, index=False, compression='gzip')\n"
   ]
  },
  {
   "cell_type": "markdown",
   "metadata": {},
   "source": [
    "Merging Stage 1 and 2"
   ]
  },
  {
   "cell_type": "code",
   "execution_count": 86,
   "metadata": {
    "collapsed": true
   },
   "outputs": [],
   "source": [
    "stg1_submission = pd.read_csv(\"data/submit/preds_orientnnoorient_cropx3_n_nocropx2__ensumble_clip0.93.gz\")"
   ]
  },
  {
   "cell_type": "code",
   "execution_count": 87,
   "metadata": {
    "collapsed": false
   },
   "outputs": [],
   "source": [
    "# stg1_submission.ix[567:572]"
   ]
  },
  {
   "cell_type": "code",
   "execution_count": 88,
   "metadata": {
    "collapsed": true
   },
   "outputs": [],
   "source": [
    "final_submission = pd.concat((stg1_submission,submission)) "
   ]
  },
  {
   "cell_type": "code",
   "execution_count": 89,
   "metadata": {
    "collapsed": true
   },
   "outputs": [],
   "source": [
    "final_subm_name = \"data/submit/finalsubmission_stg2clip0.87.gz\"\n",
    "final_submission.to_csv(final_subm_name, index=False, compression='gzip')\n"
   ]
  },
  {
   "cell_type": "code",
   "execution_count": 90,
   "metadata": {
    "collapsed": false
   },
   "outputs": [
    {
     "data": {
      "text/html": [
       "<a href='data/submit/finalsubmission_stg2clip0.87.gz' target='_blank'>data/submit/finalsubmission_stg2clip0.87.gz</a><br>"
      ],
      "text/plain": [
       "/home/ubuntu/fish/data/submit/finalsubmission_stg2clip0.87.gz"
      ]
     },
     "execution_count": 90,
     "metadata": {},
     "output_type": "execute_result"
    }
   ],
   "source": [
    "FileLink(final_subm_name)"
   ]
  },
  {
   "cell_type": "code",
   "execution_count": null,
   "metadata": {
    "collapsed": true
   },
   "outputs": [],
   "source": []
  }
 ],
 "metadata": {
  "anaconda-cloud": {},
  "kernelspec": {
   "display_name": "Python [conda root]",
   "language": "python",
   "name": "conda-root-py"
  },
  "language_info": {
   "codemirror_mode": {
    "name": "ipython",
    "version": 2
   },
   "file_extension": ".py",
   "mimetype": "text/x-python",
   "name": "python",
   "nbconvert_exporter": "python",
   "pygments_lexer": "ipython2",
   "version": "2.7.12"
  }
 },
 "nbformat": 4,
 "nbformat_minor": 1
}
